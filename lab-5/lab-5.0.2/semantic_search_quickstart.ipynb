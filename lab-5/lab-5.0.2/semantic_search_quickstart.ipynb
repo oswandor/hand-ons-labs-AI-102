{
 "cells": [
  {
   "cell_type": "markdown",
   "id": "2a51d37a",
   "metadata": {},
   "source": [
    "# Semantic Search Quickstart\n",
    "This notebook demonstrates how to use Azure AI Search with semantic ranking to improve search relevance."
   ]
  },
  {
   "cell_type": "code",
   "execution_count": 9,
   "id": "81e6203b",
   "metadata": {
    "vscode": {
     "languageId": "shellscript"
    }
   },
   "outputs": [
    {
     "name": "stderr",
     "output_type": "stream",
     "text": [
      "\n",
      "[notice] A new release of pip is available: 25.1 -> 25.1.1\n",
      "[notice] To update, run: python.exe -m pip install --upgrade pip\n",
      "\n",
      "[notice] A new release of pip is available: 25.1 -> 25.1.1\n",
      "[notice] To update, run: python.exe -m pip install --upgrade pip\n",
      "\n",
      "[notice] A new release of pip is available: 25.1 -> 25.1.1\n",
      "[notice] To update, run: python.exe -m pip install --upgrade pip\n"
     ]
    }
   ],
   "source": [
    "# Install required libraries\n",
    "!pip install azure-search-documents==11.6.0b1 --quiet\n",
    "!pip install azure-identity --quiet\n",
    "!pip install python-dotenv --quiet"
   ]
  },
  {
   "cell_type": "code",
   "execution_count": null,
   "id": "2b4429ad",
   "metadata": {
    "vscode": {
     "languageId": "shellscript"
    }
   },
   "outputs": [
    {
     "name": "stdout",
     "output_type": "stream",
     "text": [
      " hotels-quickstart created\n"
     ]
    }
   ],
   "source": [
    "from azure.search.documents.indexes import SearchIndexClient\n",
    "from azure.search.documents import SearchClient\n",
    "from azure.search.documents.indexes.models import (\n",
    "    ComplexField,\n",
    "    SimpleField,\n",
    "    SearchFieldDataType,\n",
    "    SearchableField,\n",
    "    SearchIndex,\n",
    "    SemanticConfiguration,\n",
    "    SemanticField,\n",
    "    SemanticPrioritizedFields,\n",
    "    SemanticSearch\n",
    ")\n",
    "from azure.core.credentials import AzureKeyCredential\n",
    "import os\n",
    "\n",
    "# Load environment variables\n",
    "load_dotenv()\n",
    "search_endpoint = os.getenv(\"SEARCH_ENDPOINT\")\n",
    "search_api_key = os.getenv(\"SEARCH_API_KEY\")\n",
    "index_name=\"hotels-quickstart\"\n",
    "\n",
    "# Create a search schema\n",
    "index_client = SearchIndexClient(\n",
    "    endpoint=search_endpoint, credential=AzureKeyCredential(search_api_key))\n",
    "fields = [\n",
    "        SimpleField(name=\"HotelId\", type=SearchFieldDataType.String, key=True),\n",
    "        SearchableField(name=\"HotelName\", type=SearchFieldDataType.String, sortable=True),\n",
    "        SearchableField(name=\"Description\", type=SearchFieldDataType.String, analyzer_name=\"en.lucene\"),\n",
    "        SearchableField(name=\"Description_fr\", type=SearchFieldDataType.String, analyzer_name=\"fr.lucene\"),\n",
    "        SearchableField(name=\"Category\", type=SearchFieldDataType.String, facetable=True, filterable=True, sortable=True),\n",
    "\n",
    "        SearchableField(name=\"Tags\", collection=True, type=SearchFieldDataType.String, facetable=True, filterable=True),\n",
    "\n",
    "        SimpleField(name=\"ParkingIncluded\", type=SearchFieldDataType.Boolean, facetable=True, filterable=True, sortable=True),\n",
    "        SimpleField(name=\"LastRenovationDate\", type=SearchFieldDataType.DateTimeOffset, facetable=True, filterable=True, sortable=True),\n",
    "        SimpleField(name=\"Rating\", type=SearchFieldDataType.Double, facetable=True, filterable=True, sortable=True),\n",
    "\n",
    "        ComplexField(name=\"Address\", fields=[\n",
    "            SearchableField(name=\"StreetAddress\", type=SearchFieldDataType.String),\n",
    "            SearchableField(name=\"City\", type=SearchFieldDataType.String, facetable=True, filterable=True, sortable=True),\n",
    "            SearchableField(name=\"StateProvince\", type=SearchFieldDataType.String, facetable=True, filterable=True, sortable=True),\n",
    "            SearchableField(name=\"PostalCode\", type=SearchFieldDataType.String, facetable=True, filterable=True, sortable=True),\n",
    "            SearchableField(name=\"Country\", type=SearchFieldDataType.String, facetable=True, filterable=True, sortable=True),\n",
    "        ])\n",
    "    ]\n",
    "\n",
    "semantic_config = SemanticConfiguration(\n",
    "    name=\"my-semantic-config\",\n",
    "    prioritized_fields=SemanticPrioritizedFields(\n",
    "        title_field=SemanticField(field_name=\"HotelName\"),\n",
    "        keywords_fields=[SemanticField(field_name=\"Category\")],\n",
    "        content_fields=[SemanticField(field_name=\"Description\")]\n",
    "    )\n",
    ")\n",
    "\n",
    "# Create the semantic settings with the configuration\n",
    "semantic_search = SemanticSearch(configurations=[semantic_config])\n",
    "\n",
    "scoring_profiles = []\n",
    "suggester = [{'name': 'sg', 'source_fields': ['Tags', 'Address/City', 'Address/Country']}]\n",
    "\n",
    "# Create the search index with the semantic settings\n",
    "index = SearchIndex(name=index_name, fields=fields, suggesters=suggester, scoring_profiles=scoring_profiles, semantic_search=semantic_search)\n",
    "result = index_client.create_or_update_index(index)\n",
    "print(f' {result.name} created')"
   ]
  },
  {
   "cell_type": "code",
   "execution_count": 17,
   "id": "2ec752c4",
   "metadata": {
    "vscode": {
     "languageId": "shellscript"
    }
   },
   "outputs": [
    {
     "name": "stdout",
     "output_type": "stream",
     "text": [
      "Uploaded 2 documents.\n"
     ]
    }
   ],
   "source": [
    "# Upload documents to the index\n",
    "documents = [\n",
    "    {\n",
    "        \"@search.action\": \"upload\",\n",
    "        \"HotelId\": \"1\",\n",
    "        \"HotelName\": \"Stay-Kay City Hotel\",\n",
    "        \"Description\": \"The hotel is ideally located on the main commercial artery of the city in the heart of New York.\",\n",
    "        \"Category\": \"Boutique\",\n",
    "        \"Tags\": [\"pool\", \"air conditioning\", \"concierge\"],\n",
    "        \"ParkingIncluded\": False,\n",
    "        \"LastRenovationDate\": \"1970-01-18T00:00:00Z\",\n",
    "        \"Rating\": 3.6,\n",
    "        \"Address\": {\n",
    "            \"StreetAddress\": \"677 5th Ave\",\n",
    "            \"City\": \"New York\",\n",
    "            \"StateProvince\": \"NY\",\n",
    "            \"PostalCode\": \"10022\",\n",
    "            \"Country\": \"USA\"\n",
    "        }\n",
    "    },\n",
    "    {\n",
    "        \"@search.action\": \"upload\",\n",
    "        \"HotelId\": \"2\",\n",
    "        \"HotelName\": \"Old Century Hotel\",\n",
    "        \"Description\": \"The hotel is situated in a nineteenth century plaza, which has been expanded and renovated.\",\n",
    "        \"Category\": \"Boutique\",\n",
    "        \"Tags\": [\"pool\", \"free wifi\", \"concierge\"],\n",
    "        \"ParkingIncluded\": False,\n",
    "        \"LastRenovationDate\": \"1979-02-18T00:00:00Z\",\n",
    "        \"Rating\": 3.6,\n",
    "        \"Address\": {\n",
    "            \"StreetAddress\": \"140 University Town Center Dr\",\n",
    "            \"City\": \"Sarasota\",\n",
    "            \"StateProvince\": \"FL\",\n",
    "            \"PostalCode\": \"34243\",\n",
    "            \"Country\": \"USA\"\n",
    "        }\n",
    "    }\n",
    "]\n",
    "\n",
    "search_client = SearchClient(endpoint=search_endpoint, index_name=index_name, credential=AzureKeyCredential(search_api_key))\n",
    "result = search_client.upload_documents(documents=documents)\n",
    "print(f\"Uploaded {len(result)} documents.\")"
   ]
  },
  {
   "cell_type": "code",
   "execution_count": 18,
   "id": "de4872ed",
   "metadata": {
    "vscode": {
     "languageId": "shellscript"
    }
   },
   "outputs": [
    {
     "name": "stdout",
     "output_type": "stream",
     "text": [
      "Total Documents Matching Query: 2\n",
      "1.0\n",
      "Old Century Hotel\n",
      "Description: The hotel is situated in a nineteenth century plaza, which has been expanded and renovated.\n",
      "1.0\n",
      "Stay-Kay City Hotel\n",
      "Description: The hotel is ideally located on the main commercial artery of the city in the heart of New York.\n"
     ]
    }
   ],
   "source": [
    "# Run an empty query (returns selected fields, all documents)\n",
    "results =  search_client.search(query_type='simple',\n",
    "    search_text=\"*\" ,\n",
    "    select='HotelName,Description',\n",
    "    include_total_count=True)\n",
    "\n",
    "print ('Total Documents Matching Query:', results.get_count())\n",
    "for result in results:\n",
    "    print(result[\"@search.score\"])\n",
    "    print(result[\"HotelName\"])\n",
    "    print(f\"Description: {result['Description']}\")"
   ]
  },
  {
   "cell_type": "code",
   "execution_count": 19,
   "id": "4ee2b36b",
   "metadata": {
    "vscode": {
     "languageId": "shellscript"
    }
   },
   "outputs": [
    {
     "name": "stdout",
     "output_type": "stream",
     "text": [
      "1.9347776174545288\n",
      "Old Century Hotel\n",
      "Description: The hotel is situated in a nineteenth century plaza, which has been expanded and renovated.\n",
      "Caption: The hotel is situated in a<em> nineteenth century plaza, </em>which has been expanded and renovated.\n",
      "\n",
      "1.8750495910644531\n",
      "Stay-Kay City Hotel\n",
      "Description: The hotel is ideally located on the main commercial artery of the city in the heart of New York.\n",
      "Caption: The<em> hotel </em>is ideally located<em> on the main commercial artery of the city in the heart of New York.</em>\n",
      "\n"
     ]
    }
   ],
   "source": [
    "# Runs a semantic query (runs a BM25-ranked query and promotes the most relevant matches to the top)\n",
    "results =  search_client.search(query_type='semantic', semantic_configuration_name='my-semantic-config',\n",
    "    search_text=\"what hotel has a good restaurant on site\", \n",
    "    select='HotelName,Description,Category', query_caption='extractive')\n",
    "\n",
    "for result in results:\n",
    "    print(result[\"@search.reranker_score\"])\n",
    "    print(result[\"HotelName\"])\n",
    "    print(f\"Description: {result['Description']}\")\n",
    "\n",
    "    captions = result[\"@search.captions\"]\n",
    "    if captions:\n",
    "        caption = captions[0]\n",
    "        if caption.highlights:\n",
    "            print(f\"Caption: {caption.highlights}\\n\")\n",
    "        else:\n",
    "            print(f\"Caption: {caption.text}\\n\")"
   ]
  }
 ],
 "metadata": {
  "kernelspec": {
   "display_name": ".venv",
   "language": "python",
   "name": "python3"
  },
  "language_info": {
   "codemirror_mode": {
    "name": "ipython",
    "version": 3
   },
   "file_extension": ".py",
   "mimetype": "text/x-python",
   "name": "python",
   "nbconvert_exporter": "python",
   "pygments_lexer": "ipython3",
   "version": "3.11.0"
  }
 },
 "nbformat": 4,
 "nbformat_minor": 5
}
